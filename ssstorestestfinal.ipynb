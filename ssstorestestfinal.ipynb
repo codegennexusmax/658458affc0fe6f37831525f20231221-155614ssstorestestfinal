{
 "cells": [
  {
   "cell_type": "markdown",
   "id": "41f847b1",
   "metadata": {},
   "source": [
    "***GENERATED CODE FOR ssstorestestfinal PIPELINE.***"
   ]
  },
  {
   "cell_type": "markdown",
   "id": "2aa105f0",
   "metadata": {},
   "source": [
    "***DON'T EDIT THIS CODE.***"
   ]
  },
  {
   "cell_type": "markdown",
   "id": "be7878ec",
   "metadata": {},
   "source": [
    "***CONNECTOR FUNCTIONS TO READ DATA.***"
   ]
  },
  {
   "cell_type": "code",
   "execution_count": null,
   "id": "3f74cce3",
   "metadata": {},
   "outputs": [],
   "source": [
    "import os\n",
    "import datetime\n",
    "import logging\n",
    "import warnings\n",
    "warnings.filterwarnings('ignore')\n",
    "logging.basicConfig(format='%(levelname)s:%(message)s', level=logging.INFO)\n",
    "\n",
    "\n",
    "class HDFSConnector:\n",
    "\n",
    "    def fetch(spark, config):\n",
    "        ################### INPUT HADOOP HOST PORT TO CONNECT WITH ###############################\n",
    "        hdfs_server = str(os.environ['HDFS_SERVER'])\n",
    "        hdfs_port = int(os.environ['HDFS_PORT'])\n",
    "        df = spark.read.options(header='true', inferschema='true').csv(\n",
    "            f\"hdfs://{hdfs_server}:{hdfs_port}{eval(config)['url']}\", header='true')\n",
    "        display(df.limit(2).toPandas())\n",
    "        return df\n",
    "\n",
    "    def put(df, spark, config):\n",
    "        return df.write.format('csv').options(header='true' if eval(config)[\"is_header\"] == \"Use Header Line\" else 'false',\n",
    "                                              delimiter=eval(config)[\"delimiter\"]).save((\"%s %s\") % (datetime.datetime.now().strftime(\"%Y-%m-%d %H.%M.%S\")+\"_\", eval(config)['url']))\n"
   ]
  },
  {
   "cell_type": "markdown",
   "id": "1d46b5a0",
   "metadata": {},
   "source": [
    "***OPERATION FUNCTIONS***"
   ]
  },
  {
   "cell_type": "code",
   "execution_count": null,
   "id": "33d992a7",
   "metadata": {},
   "outputs": [],
   "source": [
    "import pyspark\n",
    "from dask.dataframe import from_pandas\n",
    "import json\n",
    "\n",
    "\n",
    "def SortData(df, functionsData, applyOn=[]):\n",
    "    for functiondata in functionsData:\n",
    "        coldetail = functiondata['column']\n",
    "        sortdetails = functiondata['order']\n",
    "        for col in coldetail:\n",
    "            colname = col['columnName']\n",
    "    if sortdetails == \"asc\":\n",
    "        SortReq = True\n",
    "    else:\n",
    "        SortReq = False\n",
    "\n",
    "    df = df.set_index(colname)\n",
    "    #df = df.sort_values(by = colname, ascending=SortReq)\n",
    "\n",
    "    df = df.map_partitions(lambda df: df.sort_values(\n",
    "        [colname], ascending=SortReq)).reset_index()\n",
    "\n",
    "    return df\n",
    "\n",
    "\n",
    "def runDataCleansing(sparkDf, spark, config):\n",
    "    configObj = json.loads(config)\n",
    "    sparkDf.persist(pyspark.StorageLevel.MEMORY_AND_DISK)\n",
    "    df = from_pandas((sparkDf.toPandas()), npartitions=5)\n",
    "    functionList = configObj['functionsApplied']\n",
    "    Data_Cleansing_Methods = {\"replaceBy\": replaceValues,\n",
    "                              \"formula\": calculateFormula,\n",
    "                              \"aggregate\": aggregation,\n",
    "                              \"converttostringtype\": changeToString,\n",
    "                              \"editname\": renameColumns}\n",
    "    for function in functionList:\n",
    "        function['functionName']\n",
    "        df = Data_Cleansing_Methods[function['functionName']](df, function['functionsData'],\n",
    "                                                              function['applyOn'])\n",
    "    sparkDf = spark.createDataFrame(df.compute())\n",
    "\n",
    "    display(sparkDf.limit(2).toPandas())\n",
    "    return sparkDf\n"
   ]
  },
  {
   "cell_type": "markdown",
   "id": "2281fd41",
   "metadata": {},
   "source": [
    "***CONNECTOR FUNCTIONS TO WRITE DATA.***"
   ]
  },
  {
   "cell_type": "code",
   "execution_count": null,
   "id": "ea17c11b",
   "metadata": {},
   "outputs": [],
   "source": [
    "import datetime\n",
    "import requests\n",
    "import datetime\n",
    "import logging\n",
    "import warnings\n",
    "warnings.filterwarnings('ignore')\n",
    "logging.basicConfig(format='%(levelname)s:%(message)s', level=logging.INFO)\n",
    "\n",
    "\n",
    "class NumtraConnector:\n",
    "\n",
    "    def put(inStages, inStagesData, stageId, spark, config):\n",
    "        path = eval(config)['server_url']\n",
    "        baseType = eval(config)['baseType']\n",
    "        results_url = eval(config)['results_url']\n",
    "        server = eval(config)['server']\n",
    "        originalfile = eval(config)['orignalKey']\n",
    "        eval(config)['pathOnly']\n",
    "        filename = eval(config)['filename']\n",
    "        eval(config)['ser']\n",
    "        eval(config)['user']\n",
    "        eval(config)['password']\n",
    "        eval(config)['authSource']\n",
    "        eval(config)['user_id']\n",
    "        eval(config)['parent_id']\n",
    "        eval(config)['project_id']\n",
    "        time = str(int(datetime.datetime.now().timestamp()))\n",
    "\n",
    "        inStagesData[inStages[0]]\n",
    "\n",
    "        print(path)\n",
    "        print(baseType)\n",
    "        print(results_url)\n",
    "        print(server)\n",
    "        print(originalfile)\n",
    "        print(filename)\n",
    "\n",
    "        args = {\n",
    "            'url': path,\n",
    "            'baseType': baseType,\n",
    "            'originalfile': originalfile,\n",
    "            'filename': time + filename\n",
    "        }\n",
    "\n",
    "        response = requests.post(results_url, args)\n",
    "        return response\n"
   ]
  },
  {
   "cell_type": "markdown",
   "id": "ac160ea4",
   "metadata": {},
   "source": [
    "***READING DATAFRAME***"
   ]
  },
  {
   "cell_type": "code",
   "execution_count": null,
   "id": "257c3300",
   "metadata": {},
   "outputs": [],
   "source": [
    "############## CREATE SPARK SESSION ############################ ENTER YOUR SPARK MASTER IP AND PORT TO CONNECT TO SERVER ################\n",
    "from pyspark.sql import SparkSession\n",
    "spark = SparkSession.builder.master('local[1]').getOrCreate()\n",
    "#%run ssstorestestfinalHooks.ipynb\n",
    "try:\n",
    "\t#sourcePreExecutionHook()\n",
    "\n",
    "\tssstoretet = HDFSConnector.fetch(spark, \"{'url': '/FileStore/platform/uploadedSourceFiles/part-00000-ce76b90e-d069-48ce-b2c7-65838d9fbca6-c000.csv', 'filename': '1703171272SSStorestest1.csv', 'delimiter': ',', 'file_type': 'Delimeted', 'dbfs_token': '', 'dbfs_domain': '', 'FilePath': '/Timeseries/SSStorestest1.csv', 'viewFileName': 'SSStorestest1.csv', 'is_header': 'Use Header Line', 'baseType': 'hdfs', 'server_url': '/numtraPlatform/NumtraPlatformV3/uploads/platform/', 'results_url': 'http://ml.numtra.com:44040/api/read/hdfs'}\")\n",
    "\n",
    "except Exception as ex: \n",
    "\tlogging.error(ex)\n",
    "#spark.stop()\n"
   ]
  },
  {
   "cell_type": "markdown",
   "id": "a75715cb",
   "metadata": {},
   "source": [
    "***PERFORMING OPERATIONS***"
   ]
  },
  {
   "cell_type": "code",
   "execution_count": null,
   "id": "2e3b0908",
   "metadata": {},
   "outputs": [],
   "source": [
    "#%run ssstorestestfinalHooks.ipynb\n",
    "try:\n",
    "\t#operationPreExecutionHook()\n",
    "\n",
    "datapreparation = runDataCleansing(ssstoretet,spark,json.dumps( {\"url\": \"/FileStore/platform/uploadedSourceFiles/part-00000-ce76b90e-d069-48ce-b2c7-65838d9fbca6-c000.csv\", \"source_attributes\": {}, \"DataPrepFile\": \"/FileStore/platform/uploadedSourceFiles/part-00000-ce76b90e-d069-48ce-b2c7-65838d9fbca6-c000.csv\", \"data_source\": \"platfiles\", \"startListenerOnly\": 1, \"dateColumnNames\": [\"OrderDateNew\"], \"FilePath\": \"/FileStore/platform/extra/65845e00fc0fe6f3783152e21703174041/0part.csv\", \"requestRatio\": 10.0, \"totalRows\": 4900, \"BasicStats\": {\"missingValues\": 0.0, \"numberOfColumns\": 11, \"numberOfRows\": 4900, \"duplicateRowCount\": 2, \"stats\": [{\"column\": \"OrderDateNew\", \"alias\": \"OrderDateNew\", \"generated\": 0, \"type\": \"date\", \"max\": \"20181230\", \"min\": \"201514\", \"mean\": \"\", \"missing\": 0.0, \"stddev\": \"\", \"outliers\": [], \"validation\": []}, {\"column\": \"Order Date\", \"alias\": \"Order Date\", \"generated\": 0, \"type\": \"String\", \"max\": \"9/9/2018\", \"min\": \"1/1/2018\", \"mean\": \"\", \"missing\": 0.0, \"stddev\": \"\", \"outliers\": [], \"validation\": []}, {\"column\": \"Sales\", \"alias\": \"Sales\", \"generated\": 0, \"type\": \"real\", \"max\": 22638.48, \"min\": 0.444, \"mean\": 229.36422014285716, \"missing\": 0.0, \"stddev\": 634.95, \"outliers\": [646.74, 572.58, 545.94, 699.93, 1067.94, 489.92, 468.9, 457.568, 636.408, 1139.92, 471.92, 613.908, 1071.576, 1579.746, 22638.48, 821.3, 604.752, 673.568, 4164.05, 629.95, 758.352, 1075.088, 509.97, 1487.04, 497.61, 700.056, 779.796, 2715.93, 617.97, 567.12, 1113.504, 881.93, 2001.86, 1503.25, 515.88, 991.764, 585.552, 1441.3, 911.424, 1706.184, 907.152, 797.944, 647.84, 509.488, 1322.93, 617.97, 501.81, 853.93, 1228.465, 575.92, 479.97, 559.992, 854.94, 698.352, 981.372, 801.568, 1023.936, 479.04, 8187.65, 911.984, 674.352, 1089.75, 1199.976, 2060.744, 1091.168, 853.092, 638.82, 1202.94, 579.95, 505.176, 821.88, 1740.06, 8159.952, 975.92, 485.88, 785.88, 1325.85, 887.103, 3059.982, 2624.985, 2519.958, 617.7, 1799.97, 9449.95, 603.92, 686.32, 1801.632, 1298.55, 545.88, 1394.95, 480.74, 616.998, 2735.952, 742.336, 1604.9, 978.84, 1983.968, 783.96, 3991.98, 573.728, 666.344, 683.144, 703.968, 601.536, 665.88, 559.984, 896.99, 603.92, 629.064, 832.93, 604.656, 733.95, 479.9, 657.93, 2934.33, 539.964, 503.96, 4548.81, 629.1, 675.12, 603.92, 1049.97, 485.88, 646.2, 611.058, 1218.735, 1117.92, 669.08, 575.92, 2807.84, 909.72, 659.988, 883.92, 479.96, 1113.024, 603.92, 3610.848, 764.688, 763.28, 627.168, 1013.832, 1819.86, 487.984, 2244.48, 662.88, 1103.97, 818.376, 600.558, 767.952, 551.985, 1573.488, 1188.0, 1018.104, 464.85, 1919.976, 699.98, 541.44, 493.92, 787.53, 563.4, 1119.984, 860.93, 769.95, 512.94, 671.94, 6354.95, 1247.64, 3149.93, 1166.92, 599.98, 644.076, 547.136, 563.808, 463.248, 710.832, 783.96, 1447.65, 947.17, 595.38, 831.936, 1379.92, 1267.53, 1022.97, 665.88, 844.116, 845.728, 535.41, 540.57, 1406.86, 1123.92, 1036.624, 563.808, 899.97, 796.425, 1099.96, 601.65, 464.97, 659.168, 537.544, 1931.04, 700.152, 599.9, 1348.704, 831.2, 913.43, 561.568, 704.9, 2309.65, 1090.782, 1004.976, 558.4, 1217.568, 979.95, 622.45, 1879.96, 544.008, 586.398, 542.94, 3080.0, 918.785, 999.432, 587.97, 724.08, 484.65, 2799.96, 1552.831, 1088.76, 959.984, 666.248, 619.95, 671.93, 479.984, 991.2, 912.75, 879.984, 801.96, 1056.86, 3083.43, 1259.93, 636.86, 499.99, 601.536, 589.9, 946.344, 542.94, 517.5, 1408.1, 821.94, 1044.63, 1114.4, 631.96, 957.5775, 899.136, 626.352, 2453.43, 842.352, 1295.84, 503.96, 1399.93, 1038.84, 1212.848, 1024.38, 523.92, 826.11, 653.55, 696.42, 523.25, 999.96, 572.16, 692.472, 647.904, 523.48, 1106.91, 555.21, 482.34, 1799.75, 1598.058, 999.98, 485.94, 1619.91, 1718.4, 799.984, 801.96, 494.376, 2025.36, 1799.994, 899.91, 546.66, 646.776, 1265.85, 675.96, 1618.37, 479.988, 590.058, 883.84, 547.136, 532.3992, 487.984, 959.968, 1013.488, 484.83, 1127.976, 490.32, 836.592, 4899.93, 563.43, 637.896, 479.95, 1363.96, 481.32, 557.585, 901.95, 971.5, 697.16, 528.43, 1287.45, 459.95, 844.116, 812.736, 658.746, 1199.976, 1088.792, 517.9, 933.536, 1121.568, 9099.93, 1272.63, 3999.95, 1006.056, 511.84, 552.56, 641.96, 1049.2, 1363.96, 2396.4, 662.84, 1979.928, 1267.65, 558.4, 979.95, 801.568, 839.988, 1349.85, 714.3, 695.7, 1335.68, 1007.979, 835.17, 704.25, 539.658, 1279.165, 2799.96, 823.96, 662.88, 863.64, 579.136, 494.376, 597.0, 544.008, 593.568, 854.352, 965.85, 2430.08, 1439.976, 635.96, 513.024, 487.92, 569.536, 1399.944, 705.544, 727.296, 837.6, 532.704, 666.4, 1603.136, 1024.716, 786.744, 4355.168, 1141.47, 722.352, 601.47, 2396.2656, 719.96, 1599.92, 728.946, 3347.37, 466.768, 841.568, 631.782, 900.08, 701.372, 872.32, 1606.23, 532.704, 747.558, 956.6648, 599.292, 837.6, 727.45, 868.59, 1043.92, 783.96, 1082.48, 1085.42, 492.835, 1101.48, 842.94, 863.128, 956.6648, 731.94, 671.544, 1199.976, 499.98, 1016.792, 1117.92, 944.93, 657.552, 1219.96, 1684.752, 559.92, 659.9, 494.982, 3040.0, 1126.02, 1263.3, 751.92, 863.928, 542.646, 465.18, 1951.84, 1097.544, 1421.664, 1424.9, 1029.95, 657.93, 1114.272, 1652.94, 2003.52, 900.08, 1793.98, 579.3, 961.48, 572.76, 1117.92, 540.048, 2575.944, 902.712, 845.488, 754.45, 474.43, 695.7, 3059.982, 892.98, 1924.16, 619.95, 2999.95, 1126.02, 963.136, 799.96, 480.96, 1245.86, 889.536, 892.224, 479.94, 647.84, 895.92, 1332.496, 659.976, 657.504, 1805.88, 479.984, 470.376, 1526.56, 671.93, 677.58, 482.664, 4799.984, 617.976, 620.6145, 2690.97, 2591.56, 478.24, 501.81, 895.92, 477.24, 2549.985, 1048.35, 677.58, 763.44, 571.44, 772.68, 623.4648, 1458.65, 476.8, 3359.952, 914.97, 530.34, 587.97, 1399.93, 539.97, 1628.82, 681.408, 704.76, 520.05, 539.97, 470.376, 514.165, 1347.52, 858.24, 470.302, 1212.96, 917.9235, 871.4, 526.45, 543.92, 895.92, 1295.78, 1044.63, 545.85, 597.132, 2395.2, 1687.8, 786.48, 526.45, 479.984, 801.6, 735.98, 1145.6, 1439.982, 1454.49, 1801.632, 462.564, 895.92, 866.4, 568.728, 4367.896, 1488.424, 879.984, 841.568, 1137.75, 638.73, 1199.8, 1282.41, 1928.78, 825.174, 1322.352, 487.984, 1577.94, 478.08, 765.625, 628.81, 1931.958, 762.594, 2054.272, 782.94, 538.194, 1292.94, 723.92, 4663.736, 691.96, 1169.694, 655.9, 603.92, 488.646, 1704.89, 1575.14, 1793.98, 1115.91, 580.672, 652.45, 595.0, 904.9, 510.24, 547.3, 1633.188, 665.408, 478.48, 683.952, 909.12, 1439.92, 11199.968, 2399.6, 579.136, 863.88, 823.96, 556.665, 1702.12, 614.272, 2665.62, 975.92, 2249.91, 590.352, 7999.98, 1359.96, 523.764, 492.768, 499.584, 761.544, 826.62, 1633.14, 544.38, 899.136, 931.176, 671.984, 540.048, 652.995, 563.024, 2404.704, 720.064, 1919.976, 811.28, 10499.97, 718.116, 2504.74, 821.88, 1259.97, 659.976, 977.292, 1443.96, 501.81, 1049.2, 516.488, 1007.232, 2065.32, 1979.89, 663.936, 1242.9, 470.376, 559.62, 631.176, 521.96, 1336.829, 1004.024, 1199.976, 896.328, 872.94, 1669.6, 599.97, 520.464, 544.38, 504.9, 1704.56, 1141.938, 1665.62, 1000.02, 695.16, 839.43, 629.958, 1586.69, 1003.62, 2879.952, 479.97, 725.84], \"validation\": []}, {\"column\": \"Ship Mode\", \"alias\": \"Ship Mode\", \"generated\": 0, \"type\": \"String\", \"max\": \"Standard Class\", \"min\": \"First Class\", \"mean\": \"\", \"missing\": 0.0, \"stddev\": \"\", \"outliers\": [], \"validation\": []}, {\"column\": \"Customer Name\", \"alias\": \"Customer Name\", \"generated\": 0, \"type\": \"String\", \"max\": \"Zuschuss Donatelli\", \"min\": \"Aaron Hawkins\", \"mean\": \"\", \"missing\": 0.0, \"stddev\": \"\", \"outliers\": [], \"validation\": []}, {\"column\": \"Segment\", \"alias\": \"Segment\", \"generated\": 0, \"type\": \"String\", \"max\": \"Home Office\", \"min\": \"Consumer\", \"mean\": \"\", \"missing\": 0.0, \"stddev\": \"\", \"outliers\": [], \"validation\": []}, {\"column\": \"City\", \"alias\": \"City\", \"generated\": 0, \"type\": \"String\", \"max\": \"Yuma\", \"min\": \"Akron\", \"mean\": \"\", \"missing\": 0.0, \"stddev\": \"\", \"outliers\": [], \"validation\": []}, {\"column\": \"State\", \"alias\": \"State\", \"generated\": 0, \"type\": \"String\", \"max\": \"Wisconsin\", \"min\": \"Alabama\", \"mean\": \"\", \"missing\": 0.0, \"stddev\": \"\", \"outliers\": [], \"validation\": []}, {\"column\": \"Region\", \"alias\": \"Region\", \"generated\": 0, \"type\": \"String\", \"max\": \"West\", \"min\": \"Central\", \"mean\": \"\", \"missing\": 0.0, \"stddev\": \"\", \"outliers\": [], \"validation\": []}, {\"column\": \"Category\", \"alias\": \"Category\", \"generated\": 0, \"type\": \"String\", \"max\": \"Technology\", \"min\": \"Furniture\", \"mean\": \"\", \"missing\": 0.0, \"stddev\": \"\", \"outliers\": [], \"validation\": []}, {\"column\": \"Sub-Category\", \"alias\": \"Sub-Category\", \"generated\": 0, \"type\": \"String\", \"max\": \"Tables\", \"min\": \"Accessories\", \"mean\": \"\", \"missing\": 0.0, \"stddev\": \"\", \"outliers\": [], \"validation\": []}]}, \"predictionPowerScore\": [{\"Category\": 1.0, \"City\": 0.032648793, \"Customer Name\": 0.0065378616, \"Order Date\": 0.0259176291, \"OrderDateNew\": 0.0233724249, \"Region\": 0.0, \"Sales\": 0.3339549881, \"Segment\": 0.0, \"Ship Mode\": 0.0, \"State\": 0.0002917605, \"Sub-Category\": 1.0}, {\"Category\": 0.0, \"City\": 1.0, \"Customer Name\": 0.2985774645, \"Order Date\": 0.3673189915, \"OrderDateNew\": 0.3645789846, \"Region\": 0.055447872, \"Sales\": 0.0052164877, \"Segment\": 0.0, \"Ship Mode\": 0.0, \"State\": 0.3190335646, \"Sub-Category\": 0.0}, {\"Category\": 0.0, \"City\": 0.1499841664, \"Customer Name\": 1.0, \"Order Date\": 0.3530722023, \"OrderDateNew\": 0.3471601872, \"Region\": 0.0, \"Sales\": 0.0005953897, \"Segment\": 0.0, \"Ship Mode\": 0.0, \"State\": 0.0126975641, \"Sub-Category\": 0.0}, {\"Category\": 0.0, \"City\": 0.1545369833, \"Customer Name\": 0.2912916929, \"Order Date\": 1.0, \"OrderDateNew\": 0.9529338042, \"Region\": 0.0, \"Sales\": 0.0, \"Segment\": 0.0, \"Ship Mode\": 0.0, \"State\": 0.0130683663, \"Sub-Category\": 0.0}, {\"Category\": 0.0, \"City\": 0.0, \"Customer Name\": 0.0, \"Order Date\": 0.0, \"OrderDateNew\": 1.0, \"Region\": 0.0, \"Sales\": 0.0, \"Segment\": 0.0, \"Ship Mode\": 0.0, \"State\": 0.0, \"Sub-Category\": 0.0}, {\"Category\": 0.0, \"City\": 0.8810508117, \"Customer Name\": 0.3128595647, \"Order Date\": 0.3587277059, \"OrderDateNew\": 0.3597177139, \"Region\": 1.0, \"Sales\": 0.0136978368, \"Segment\": 0.0, \"Ship Mode\": 0.0, \"State\": 0.9997167142, \"Sub-Category\": 0.0}, {\"Category\": 0.0, \"City\": 0.0, \"Customer Name\": 0.0, \"Order Date\": 0.0, \"OrderDateNew\": 0.0, \"Region\": 0.0, \"Sales\": 1.0, \"Segment\": 0.0, \"Ship Mode\": 0.0, \"State\": 0.0, \"Sub-Category\": 0.0190165926}, {\"Category\": 0.0, \"City\": 0.2079530221, \"Customer Name\": 0.9844779882, \"Order Date\": 0.4019291462, \"OrderDateNew\": 0.3967616366, \"Region\": 0.0, \"Sales\": 0.0, \"Segment\": 1.0, \"Ship Mode\": 0.0, \"State\": 0.0, \"Sub-Category\": 0.0}, {\"Category\": 1.107e-07, \"City\": 0.2179219204, \"Customer Name\": 0.3351021889, \"Order Date\": 0.3551203633, \"OrderDateNew\": 0.3464130805, \"Region\": 1.107e-07, \"Sales\": 0.0, \"Segment\": 1.107e-07, \"Ship Mode\": 1.0, \"State\": 0.0338450896, \"Sub-Category\": 1.107e-07}, {\"Category\": 0.0, \"City\": 0.8657814031, \"Customer Name\": 0.3028234281, \"Order Date\": 0.3748608346, \"OrderDateNew\": 0.3692302977, \"Region\": 0.2204494159, \"Sales\": 0.024439587, \"Segment\": 0.0, \"Ship Mode\": 0.0, \"State\": 1.0, \"Sub-Category\": 0.0}, {\"Category\": 0.1014540865, \"City\": 0.00631424, \"Customer Name\": 0.0, \"Order Date\": 0.0073351332, \"OrderDateNew\": 0.0085842571, \"Region\": 0.0, \"Sales\": 0.257378785, \"Segment\": 0.0, \"Ship Mode\": 0.0, \"State\": 0.0, \"Sub-Category\": 1.0}], \"HasBasicStats\": 1, \"functionsApplied\": [{\"functionName\": \"sortData\", \"applyOn\": [{\"columnName\": \"OrderDateNew\", \"type\": \"date\", \"min\": \"201514\", \"max\": \"20181230\", \"mean\": \"-\"}], \"functionsData\": [{\"column\": [{\"columnName\": \"OrderDateNew\", \"type\": \"date\", \"min\": \"201514\", \"max\": \"20181230\", \"mean\": \"-\"}], \"order\": \"asc\"}]}, {\"functionName\": \"sortData\", \"applyOn\": [{\"columnName\": \"OrderDateNew\", \"type\": \"date\", \"min\": \"201514\", \"max\": \"20181230\", \"mean\": \"-\"}], \"functionsData\": [{\"column\": [{\"columnName\": \"OrderDateNew\", \"type\": \"date\", \"min\": \"201514\", \"max\": \"20181230\", \"mean\": \"-\"}], \"order\": \"asc\"}]}], \"functionChanges\": [{\"columnName\": \"OrderDateNew\", \"functionName\": \"sortData\", \"Type\": \"date\", \"Parameters\": [{\"column\": [{\"columnName\": \"OrderDateNew\", \"type\": \"date\", \"min\": \"201514\", \"max\": \"20181230\", \"mean\": \"-\"}], \"order\": \"asc\"}]}, {\"columnName\": \"OrderDateNew\", \"functionName\": \"sortData\", \"Type\": \"date\", \"Parameters\": [{\"column\": [{\"columnName\": \"OrderDateNew\", \"type\": \"date\", \"min\": \"201514\", \"max\": \"20181230\", \"mean\": \"-\"}], \"order\": \"asc\"}]}], \"fileheader\": [{\"field\": \"OrderDateNew\", \"alias\": \"OrderDateNew\", \"generated\": 0, \"position\": 1, \"type\": \"date\"}, {\"field\": \"Order Date\", \"alias\": \"Order Date\", \"generated\": 0, \"position\": 2, \"type\": \"String\"}, {\"field\": \"Sales\", \"alias\": \"Sales\", \"generated\": 0, \"position\": 3, \"type\": \"real\"}, {\"field\": \"Ship Mode\", \"alias\": \"Ship Mode\", \"generated\": 0, \"position\": 4, \"type\": \"String\"}, {\"field\": \"Customer Name\", \"alias\": \"Customer Name\", \"generated\": 0, \"position\": 5, \"type\": \"String\"}, {\"field\": \"Segment\", \"alias\": \"Segment\", \"generated\": 0, \"position\": 6, \"type\": \"String\"}, {\"field\": \"City\", \"alias\": \"City\", \"generated\": 0, \"position\": 7, \"type\": \"String\"}, {\"field\": \"State\", \"alias\": \"State\", \"generated\": 0, \"position\": 8, \"type\": \"String\"}, {\"field\": \"Region\", \"alias\": \"Region\", \"generated\": 0, \"position\": 9, \"type\": \"String\"}, {\"field\": \"Category\", \"alias\": \"Category\", \"generated\": 0, \"position\": 10, \"type\": \"String\"}, {\"field\": \"Sub-Category\", \"alias\": \"Sub-Category\", \"generated\": 0, \"position\": 11, \"type\": \"String\"}]}))\n",
    "\t#operationPostExecutionHook(datapreparation)\n",
    "\n",
    "except Exception as ex: \n",
    "\tlogging.error(ex)\n"
   ]
  },
  {
   "cell_type": "markdown",
   "id": "66b5a7d6",
   "metadata": {},
   "source": [
    "***WRITING DATAFRAME***"
   ]
  },
  {
   "cell_type": "code",
   "execution_count": null,
   "id": "279dd06c",
   "metadata": {},
   "outputs": [],
   "source": [
    "#%run ssstorestestfinalHooks.ipynb\n",
    "try:\n",
    "\t#sinkPreExecutionHook()\n",
    "\n",
    "\ttimeseries = NumtraConnector.fetch(spark, \"{'samplefile': '/FileStore/platform/sampleData/65845dfbfc0fe6f3783152de/part-00000-d25b11a5-5975-4580-b46b-9f218a99d061-c000.csv', 'samplecount': 455, 'originalcount': 4900, 'orignalKey': '/FileStore/platform/uploadedSourceFiles/part-00000-ce76b90e-d069-48ce-b2c7-65838d9fbca6-c000.csv', 'pathOnly': '/Timeseries', 'project_id': '6513c33db91dbaa301dd17d3', 'parent_id': '6513c33db91dbaa301dd17d3', 'original_schema': [{'checked': True, 'inherited': True, 'is_categorical': False, 'bad_values': '', 'nullable': 'true', 'field': 'Order Date', 'alias': 'Order Date', 'type': 'date', 'position': '0'}, {'checked': True, 'inherited': True, 'is_categorical': False, 'bad_values': '', 'nullable': 'true', 'field': 'Sales', 'alias': 'Sales', 'type': 'real', 'position': '1'}, {'checked': True, 'inherited': True, 'is_categorical': False, 'bad_values': '', 'nullable': 'true', 'field': 'Ship Mode', 'alias': 'Ship Mode', 'type': 'String', 'position': '2'}, {'checked': True, 'inherited': True, 'is_categorical': False, 'bad_values': '', 'nullable': 'true', 'field': 'Customer Name', 'alias': 'Customer Name', 'type': 'String', 'position': '3'}, {'checked': True, 'inherited': True, 'is_categorical': False, 'bad_values': '', 'nullable': 'true', 'field': 'Segment', 'alias': 'Segment', 'type': 'String', 'position': '4'}, {'checked': True, 'inherited': True, 'is_categorical': False, 'bad_values': '', 'nullable': 'true', 'field': 'City', 'alias': 'City', 'type': 'String', 'position': '5'}, {'checked': True, 'inherited': True, 'is_categorical': False, 'bad_values': '', 'nullable': 'true', 'field': 'State', 'alias': 'State', 'type': 'String', 'position': '6'}, {'checked': True, 'inherited': True, 'is_categorical': False, 'bad_values': '', 'nullable': 'true', 'field': 'Region', 'alias': 'Region', 'type': 'String', 'position': '7'}, {'checked': True, 'inherited': True, 'is_categorical': False, 'bad_values': '', 'nullable': 'true', 'field': 'Category', 'alias': 'Category', 'type': 'String', 'position': '8'}, {'checked': True, 'inherited': True, 'is_categorical': False, 'bad_values': '', 'nullable': 'true', 'field': 'Sub-Category', 'alias': 'Sub-Category', 'type': 'String', 'position': '9'}, {'checked': True, 'inherited': True, 'is_categorical': False, 'bad_values': '', 'nullable': 'true', 'field': 'OrderDateNew', 'alias': 'OrderDateNew', 'type': 'numeric', 'position': '10'}], 'actual_schema': [{'checked': True, 'inherited': True, 'is_categorical': False, 'bad_values': '', 'nullable': 'true', 'field': 'Order Date', 'alias': 'Order Date', 'type': 'date', 'position': '0'}, {'checked': True, 'inherited': True, 'is_categorical': False, 'bad_values': '', 'nullable': 'true', 'field': 'Sales', 'alias': 'Sales', 'type': 'real', 'position': '1'}, {'checked': True, 'inherited': True, 'is_categorical': False, 'bad_values': '', 'nullable': 'true', 'field': 'Ship Mode', 'alias': 'Ship Mode', 'type': 'String', 'position': '2'}, {'checked': True, 'inherited': True, 'is_categorical': False, 'bad_values': '', 'nullable': 'true', 'field': 'Customer Name', 'alias': 'Customer Name', 'type': 'String', 'position': '3'}, {'checked': True, 'inherited': True, 'is_categorical': False, 'bad_values': '', 'nullable': 'true', 'field': 'Segment', 'alias': 'Segment', 'type': 'String', 'position': '4'}, {'checked': True, 'inherited': True, 'is_categorical': False, 'bad_values': '', 'nullable': 'true', 'field': 'City', 'alias': 'City', 'type': 'String', 'position': '5'}, {'checked': True, 'inherited': True, 'is_categorical': False, 'bad_values': '', 'nullable': 'true', 'field': 'State', 'alias': 'State', 'type': 'String', 'position': '6'}, {'checked': True, 'inherited': True, 'is_categorical': False, 'bad_values': '', 'nullable': 'true', 'field': 'Region', 'alias': 'Region', 'type': 'String', 'position': '7'}, {'checked': True, 'inherited': True, 'is_categorical': False, 'bad_values': '', 'nullable': 'true', 'field': 'Category', 'alias': 'Category', 'type': 'String', 'position': '8'}, {'checked': True, 'inherited': True, 'is_categorical': False, 'bad_values': '', 'nullable': 'true', 'field': 'Sub-Category', 'alias': 'Sub-Category', 'type': 'String', 'position': '9'}, {'checked': True, 'inherited': True, 'is_categorical': False, 'bad_values': '', 'nullable': 'true', 'field': 'OrderDateNew', 'alias': 'OrderDateNew', 'type': 'numeric', 'position': '10'}], 'server': 'https://ml.numtra.com:443', 'server_url': '/numtraPlatform/NumtraPlatformV3/uploads/platform/', 'delimiter': ',', 'file_type': 'Delimeted', 'filename': 'SSStoresTestF.csv', 'token': '', 'domain': '', 'is_header': 'Use Header Line', 'url': '/FileStore/platform/uploadedSourceFiles/part-00000-4f119480-75e4-4ca5-b417-befd736d51ff-c000.csv', 'results_url': 'http://ml.numtra.com:44040/api/read/hdfs'}\")\n",
    "\n",
    "except Exception as ex: \n",
    "\tlogging.error(ex)\n"
   ]
  }
 ],
 "metadata": {},
 "nbformat": 4,
 "nbformat_minor": 5
}
